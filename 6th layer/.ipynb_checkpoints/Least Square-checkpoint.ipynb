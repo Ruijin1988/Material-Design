{
 "cells": [
  {
   "cell_type": "code",
   "execution_count": 6,
   "metadata": {
    "collapsed": true
   },
   "outputs": [],
   "source": [
    "import scipy.io\n",
    "import numpy as np\n",
    "import theano\n",
    "import theano.tensor as T\n",
    "\n",
    "force = scipy.io.loadmat('true.mat')\n",
    "neurons = scipy.io.loadmat('hidstates5th_WB_recon_30neuron')"
   ]
  },
  {
   "cell_type": "code",
   "execution_count": 14,
   "metadata": {
    "collapsed": false,
    "scrolled": true
   },
   "outputs": [
    {
     "data": {
      "text/plain": [
       "(1L, 100L)"
      ]
     },
     "execution_count": 14,
     "metadata": {},
     "output_type": "execute_result"
    }
   ],
   "source": [
    "force['skt'].T.shape"
   ]
  },
  {
   "cell_type": "code",
   "execution_count": 4,
   "metadata": {
    "collapsed": false
   },
   "outputs": [
    {
     "data": {
      "text/plain": [
       "(100L, 1L)"
      ]
     },
     "execution_count": 4,
     "metadata": {},
     "output_type": "execute_result"
    }
   ],
   "source": [
    "class LR(object):\n",
    "    def __init__(self, input, n_in, n_out):\n",
    "        W = theano.shared(value=numpy.zeros((n_in, n_out),dtype=theano.config.floatX),name='W',borrow=True)\n",
    "        self.y_pred = T.dot(input, self.W)\n",
    "    def difference(self,y):\n",
    "        return y-self.y_pred\n",
    "\n",
    "def loaddata(data1, data2):\n",
    "    data1=neurons['xtr']\n",
    "    data2=force['skt']\n",
    "    def shared_dataset(data1,data2,borrow=True):\n",
    "        shared_x = theano.shared(numpy.asarray(data1, dtype=theano.config.floatX),borrow=True)\n",
    "        shared_y = theano.shared(numpy.asarray(data2, dtype=theano.config.floatX),borrow=True)\n",
    "        return shared_x, T.cast(shared_y, 'int32')\n",
    "    \n",
    "    train_set_x, train_set_y = shared_dataset(data1,data2)\n",
    "    rval = [(train_set_x, train_set_y)]\n",
    "    return rval\n",
    "\n"
   ]
  }
 ],
 "metadata": {
  "kernelspec": {
   "display_name": "Python 2",
   "language": "python",
   "name": "python2"
  },
  "language_info": {
   "codemirror_mode": {
    "name": "ipython",
    "version": 2
   },
   "file_extension": ".py",
   "mimetype": "text/x-python",
   "name": "python",
   "nbconvert_exporter": "python",
   "pygments_lexer": "ipython2",
   "version": "2.7.11"
  }
 },
 "nbformat": 4,
 "nbformat_minor": 0
}
