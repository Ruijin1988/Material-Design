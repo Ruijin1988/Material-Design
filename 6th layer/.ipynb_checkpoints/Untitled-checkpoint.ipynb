{
 "cells": [
  {
   "cell_type": "code",
   "execution_count": 45,
   "metadata": {
    "collapsed": true
   },
   "outputs": [],
   "source": [
    "import numpy as np\n",
    "import scipy.io\n",
    "from sknn.mlp import Regressor, Layer\n",
    "\n",
    "########################\n",
    "# TRAIN FROM 5TH LAYER #\n",
    "########################\n",
    "    \n",
    "#### load data ####\n",
    "force = scipy.io.loadmat('true.mat')\n",
    "neurons = scipy.io.loadmat('hidstates5th_WB_recon_30neuron')\n",
    "neuron_input=neurons['xtr'].T\n",
    "neuron_train = neuron_input[0:80]\n",
    "neuron_test = neuron_input[80:100]\n",
    "#neuron_valid = neuron_input[90:100]\n",
    "\n",
    "data_label=np.asarray(force['skt']).reshape(-1)\n",
    "label_y=(data_label-np.mean(data_label))/np.std(data_label)\n",
    "label_train=label_y[0:80]\n",
    "#label_train = np.asarray(label_train, dtype=\"|S6\")\n",
    "label_test=label_y[80:100]\n",
    "#label_valid=label_y[90:100]\n",
    "#label_valid = np.asarray(label_valid, dtype=\"|S6\")\n"
   ]
  },
  {
   "cell_type": "code",
   "execution_count": 49,
   "metadata": {
    "collapsed": false
   },
   "outputs": [
    {
     "data": {
      "text/plain": [
       "1.248619062349009"
      ]
     },
     "execution_count": 49,
     "metadata": {},
     "output_type": "execute_result"
    }
   ],
   "source": [
    "nn = Regressor(\n",
    "    layers=[\n",
    "        #Layer(\"Rectifier\", units=1),\n",
    "        Layer(\"Linear\")],\n",
    "    learning_rate=0.02,\n",
    "    valid_size=0.1)\n",
    "nn.fit(neuron_train, label_train)\n",
    "sum((nn.predict(neuron_test).reshape(-1)-label_test)**2)/len(label_test)"
   ]
  },
  {
   "cell_type": "code",
   "execution_count": 57,
   "metadata": {
    "collapsed": false
   },
   "outputs": [
    {
     "data": {
      "text/plain": [
       "array([[1, 0, 0, ..., 1, 1, 1],\n",
       "       [0, 1, 1, ..., 0, 1, 1],\n",
       "       [1, 1, 1, ..., 0, 1, 0],\n",
       "       ..., \n",
       "       [0, 1, 1, ..., 0, 0, 1],\n",
       "       [0, 0, 1, ..., 0, 0, 1],\n",
       "       [1, 1, 0, ..., 1, 0, 1]], dtype=uint8)"
      ]
     },
     "execution_count": 57,
     "metadata": {},
     "output_type": "execute_result"
    }
   ],
   "source": [
    "neuron_train"
   ]
  },
  {
   "cell_type": "code",
   "execution_count": 49,
   "metadata": {
    "collapsed": false
   },
   "outputs": [
    {
     "data": {
      "text/plain": [
       "array([ 0.07363218,  0.15891558,  0.01968774,  0.14956585, -0.14252757,\n",
       "        0.12913502,  0.12288378,  0.08559134,  0.01131121,  0.11672598,\n",
       "       -0.31034854,  0.07363218,  0.22120891,  0.08406497,  0.11624266,\n",
       "        0.14466816, -0.09907485,  0.18063523, -0.08375497,  0.07282752,\n",
       "        0.04607799,  0.01489044, -0.12434086, -0.0039425 ,  0.09029247,\n",
       "        0.23875916,  0.12913502,  0.20140708,  0.01489044,  0.03289428,\n",
       "        0.01702137,  0.12913502, -0.21923017,  0.00689359, -0.05248646,\n",
       "        0.06997708,  0.13987297,  0.07403509,  0.11800939, -0.03276998,\n",
       "        0.05743159,  0.07665509,  0.01317371,  0.04607799,  0.13189893,\n",
       "        0.05743159,  0.1811039 , -0.15368649,  0.13862344,  0.30910722,\n",
       "       -0.00610684,  0.12913502, -0.23000385,  0.06087592,  0.17511954,\n",
       "        0.10409711, -0.37855925, -0.27723983,  0.16928709, -0.21783727,\n",
       "        0.11835581,  0.04607799, -0.07123418,  0.12913502,  0.0167283 ,\n",
       "        0.21685947,  0.11513857, -0.27523753, -0.26382073,  0.13534004,\n",
       "        0.1811039 , -0.09907485, -0.29278044,  0.28319519,  0.30181005,\n",
       "       -0.23000385, -0.21162924,  0.1449367 ,  0.18362231,  0.17250629])"
      ]
     },
     "execution_count": 49,
     "metadata": {},
     "output_type": "execute_result"
    }
   ],
   "source": [
    "nn.predict(neuron_train).reshape(-1)"
   ]
  },
  {
   "cell_type": "code",
   "execution_count": 35,
   "metadata": {
    "collapsed": false
   },
   "outputs": [
    {
     "data": {
      "text/plain": [
       "array([-0.24739797,  0.17104364, -0.19879881,  0.25439708, -0.18014811,\n",
       "        0.29007791,  0.09365858, -0.18772898, -0.17358943,  0.34120451,\n",
       "        0.3010771 ,  0.27417967,  0.30991339,  0.0849531 ,  0.29007791,\n",
       "        0.01311688, -0.44867501,  0.1354762 , -0.24739797, -0.5387315 ])"
      ]
     },
     "execution_count": 35,
     "metadata": {},
     "output_type": "execute_result"
    }
   ],
   "source": [
    "nn.predict(neuron_test).reshape(-1)"
   ]
  }
 ],
 "metadata": {
  "kernelspec": {
   "display_name": "Python 2",
   "language": "python",
   "name": "python2"
  },
  "language_info": {
   "codemirror_mode": {
    "name": "ipython",
    "version": 2
   },
   "file_extension": ".py",
   "mimetype": "text/x-python",
   "name": "python",
   "nbconvert_exporter": "python",
   "pygments_lexer": "ipython2",
   "version": "2.7.12"
  }
 },
 "nbformat": 4,
 "nbformat_minor": 0
}
