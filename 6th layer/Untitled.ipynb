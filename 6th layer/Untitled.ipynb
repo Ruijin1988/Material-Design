{
 "cells": [
  {
   "cell_type": "code",
   "execution_count": 1,
   "metadata": {
    "collapsed": true
   },
   "outputs": [],
   "source": [
    "import numpy as np\n",
    "import scipy.io\n",
    "from sknn.mlp import Regressor, Layer\n",
    "\n",
    "########################\n",
    "# TRAIN FROM 5TH LAYER #\n",
    "########################\n",
    "    \n",
    "#### load data ####\n",
    "force = scipy.io.loadmat('true.mat')\n",
    "neurons = scipy.io.loadmat('hidstates5th_WB_recon_30neuron')\n",
    "neuron_input=neurons['xtr'].T\n",
    "neuron_train = neuron_input[0:80]\n",
    "neuron_test = neuron_input[80:100]\n",
    "#neuron_valid = neuron_input[90:100]\n",
    "\n",
    "data_label=np.asarray(force['skt']).reshape(-1)\n",
    "label_y=(data_label-np.mean(data_label))/np.std(data_label)\n",
    "label_train=label_y[0:80]\n",
    "#label_train = np.asarray(label_train, dtype=\"|S6\")\n",
    "label_test=label_y[80:100]\n",
    "#label_valid=label_y[90:100]\n",
    "#label_valid = np.asarray(label_valid, dtype=\"|S6\")\n"
   ]
  },
  {
   "cell_type": "code",
   "execution_count": 5,
   "metadata": {
    "collapsed": false
   },
   "outputs": [
    {
     "name": "stdout",
     "output_type": "stream",
     "text": [
      "TEST error for neural network on 5th layer is= 1.48602058411\n"
     ]
    }
   ],
   "source": [
    "nn = Regressor(\n",
    "    layers=[\n",
    "        #Layer(\"Rectifier\", units=1),\n",
    "        Layer(\"Linear\")],\n",
    "    learning_rate=0.02,\n",
    "    valid_size=0.1)\n",
    "nn.fit(neuron_train, label_train)\n",
    "error=sum((nn.predict(neuron_test).reshape(-1)-label_test)**2)/len(label_test)\n",
    "print 'TEST error for neural network on 5th layer is=',error"
   ]
  },
  {
   "cell_type": "code",
   "execution_count": 30,
   "metadata": {
    "collapsed": false
   },
   "outputs": [
    {
     "name": "stdout",
     "output_type": "stream",
     "text": [
      "TEST error for neural network on 1st layer is= 1.21677318071\n"
     ]
    }
   ],
   "source": [
    "########################\n",
    "# TRAIN FROM 1st LAYER #\n",
    "########################\n",
    "\n",
    "neuron2 = scipy.io.loadmat('input_neuron')\n",
    "neuron_input2 = neuron2['WB']\n",
    "neuron_train2 = neuron_input2[0:80]\n",
    "neuron_test2 = neuron_input2[80:100]\n",
    "\n",
    "nn2 = Regressor(\n",
    "    layers=[\n",
    "        Layer(\"Sigmoid\", units=1000),\n",
    "        Layer(\"Sigmoid\", units=50),\n",
    "        Layer(\"Linear\")],\n",
    "    learning_rate=0.02,\n",
    "    valid_size=0.1)\n",
    "nn2.fit(neuron_train2, label_train)\n",
    "error2=sum((nn2.predict(neuron_test2).reshape(-1)-label_test)**2)/len(label_test)\n",
    "print 'TEST error for neural network on 1st layer is=',error2"
   ]
  }
 ],
 "metadata": {
  "kernelspec": {
   "display_name": "Python 2",
   "language": "python",
   "name": "python2"
  },
  "language_info": {
   "codemirror_mode": {
    "name": "ipython",
    "version": 2
   },
   "file_extension": ".py",
   "mimetype": "text/x-python",
   "name": "python",
   "nbconvert_exporter": "python",
   "pygments_lexer": "ipython2",
   "version": "2.7.12"
  }
 },
 "nbformat": 4,
 "nbformat_minor": 0
}
