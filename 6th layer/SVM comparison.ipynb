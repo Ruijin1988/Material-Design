{
 "cells": [
  {
   "cell_type": "code",
   "execution_count": 11,
   "metadata": {
    "collapsed": false
   },
   "outputs": [
    {
     "name": "stdout",
     "output_type": "stream",
     "text": [
      "mean test error from the 5th layer SVM is= 1.48790114415\n"
     ]
    }
   ],
   "source": [
    "from sklearn.svm import SVR\n",
    "import numpy as np\n",
    "import scipy.io\n",
    "\n",
    "########################\n",
    "# TRAIN FROM 5TH LAYER #\n",
    "########################\n",
    "    \n",
    "#### load data ####\n",
    "force = scipy.io.loadmat('true.mat')\n",
    "neurons = scipy.io.loadmat('hidstates5th_WB_recon_30neuron')\n",
    "neuron_input=neurons['xtr'].T\n",
    "neuron_train = neuron_input[0:80]\n",
    "neuron_test = neuron_input[80:100]\n",
    "\n",
    "data_label=np.asarray(force['skt']).reshape(-1)\n",
    "label_y=(data_label-np.mean(data_label))/np.std(data_label)\n",
    "label_train=label_y[0:80]\n",
    "label_train = np.asarray(label_train, dtype=\"|S6\")\n",
    "label_test=label_y[80:100]\n",
    "label_test = np.asarray(label_test, dtype=\"|S6\")\n",
    "#### train the model #### \n",
    "clf = SVR(C=10.0, epsilon=0.2)\n",
    "clf.fit(neuron_train, label_train)\n",
    "#### calculate the test error ####\n",
    "ERROR_5TH=sum((clf.predict(neuron_test)-label_y[80:100])**2)/len(neuron_test)\n",
    "print 'mean test error from the 5th layer SVM is=',ERROR_5TH"
   ]
  },
  {
   "cell_type": "code",
   "execution_count": 12,
   "metadata": {
    "collapsed": false
   },
   "outputs": [
    {
     "data": {
      "text/plain": [
       "0.45673041002251774"
      ]
     },
     "execution_count": 12,
     "metadata": {},
     "output_type": "execute_result"
    }
   ],
   "source": [
    "clf.score(neuron_train,label_y[0:80])"
   ]
  },
  {
   "cell_type": "code",
   "execution_count": 2,
   "metadata": {
    "collapsed": false
   },
   "outputs": [
    {
     "name": "stdout",
     "output_type": "stream",
     "text": [
      "mean test error from INPUT SVM is= 1.18582102861\n"
     ]
    }
   ],
   "source": [
    "########################\n",
    "# TRAIN FROM INPUT     #\n",
    "########################\n",
    "\n",
    "#### load data ####\n",
    "neurons2 = scipy.io.loadmat('input_neuron')\n",
    "neuron_input2 = neurons2['WB']\n",
    "neuron_train2 = neuron_input2[0:80]\n",
    "neuron_test2 = neuron_input2[80:100]\n",
    "#### train the model ####\n",
    "clf = SVR(C=1.0, epsilon=0.2)\n",
    "clf.fit(neuron_train2, label_train)\n",
    "#### calculate the test error ####\n",
    "ERROR_1ST=sum((clf.predict(neuron_test2)-label_y[80:100])**2)/len(neuron_test2)\n",
    "print 'mean test error from INPUT SVM is=',ERROR_1ST\n"
   ]
  }
 ],
 "metadata": {
  "kernelspec": {
   "display_name": "Python 2",
   "language": "python",
   "name": "python2"
  },
  "language_info": {
   "codemirror_mode": {
    "name": "ipython",
    "version": 2
   },
   "file_extension": ".py",
   "mimetype": "text/x-python",
   "name": "python",
   "nbconvert_exporter": "python",
   "pygments_lexer": "ipython2",
   "version": "2.7.12"
  }
 },
 "nbformat": 4,
 "nbformat_minor": 0
}
